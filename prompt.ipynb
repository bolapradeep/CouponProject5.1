{
 "cells": [
  {
   "cell_type": "markdown",
   "metadata": {},
   "source": [
    "### Will a Customer Accept the Coupon?\n",
    "\n",
    "**Context**\n",
    "\n",
    "Imagine driving through town and a coupon is delivered to your cell phone for a restaraunt near where you are driving. Would you accept that coupon and take a short detour to the restaraunt? Would you accept the coupon but use it on a sunbsequent trip? Would you ignore the coupon entirely? What if the coupon was for a bar instead of a restaraunt? What about a coffee house? Would you accept a bar coupon with a minor passenger in the car? What about if it was just you and your partner in the car? Would weather impact the rate of acceptance? What about the time of day?\n",
    "\n",
    "Obviously, proximity to the business is a factor on whether the coupon is delivered to the driver or not, but what are the factors that determine whether a driver accepts the coupon once it is delivered to them? How would you determine whether a driver is likely to accept a coupon?\n",
    "\n",
    "**Overview**\n",
    "\n",
    "The goal of this project is to use what you know about visualizations and probability distributions to distinguish between customers who accepted a driving coupon versus those that did not.\n",
    "\n",
    "**Data**\n",
    "\n",
    "This data comes to us from the UCI Machine Learning repository and was collected via a survey on Amazon Mechanical Turk. The survey describes different driving scenarios including the destination, current time, weather, passenger, etc., and then ask the person whether he will accept the coupon if he is the driver. Answers that the user will drive there ‘right away’ or ‘later before the coupon expires’ are labeled as ‘Y = 1’ and answers ‘no, I do not want the coupon’ are labeled as ‘Y = 0’.  There are five different types of coupons -- less expensive restaurants (under \\\\$20), coffee houses, carry out & take away, bar, and more expensive restaurants (\\\\$20 - \\\\$50). "
   ]
  },
  {
   "cell_type": "markdown",
   "metadata": {},
   "source": [
    "**Deliverables**\n",
    "\n",
    "Your final product should be a brief report that highlights the differences between customers who did and did not accept the coupons.  To explore the data you will utilize your knowledge of plotting, statistical summaries, and visualization using Python. You will publish your findings in a public facing github repository as your first portfolio piece. \n",
    "\n",
    "\n",
    "\n"
   ]
  },
  {
   "cell_type": "markdown",
   "metadata": {},
   "source": [
    "### Data Description\n",
    "Keep in mind that these values mentioned below are average values.\n",
    "\n",
    "The attributes of this data set include:\n",
    "1. User attributes\n",
    "    -  Gender: male, female\n",
    "    -  Age: below 21, 21 to 25, 26 to 30, etc.\n",
    "    -  Marital Status: single, married partner, unmarried partner, or widowed\n",
    "    -  Number of children: 0, 1, or more than 1\n",
    "    -  Education: high school, bachelors degree, associates degree, or graduate degree\n",
    "    -  Occupation: architecture & engineering, business & financial, etc.\n",
    "    -  Annual income: less than \\\\$12500, \\\\$12500 - \\\\$24999, \\\\$25000 - \\\\$37499, etc.\n",
    "    -  Number of times that he/she goes to a bar: 0, less than 1, 1 to 3, 4 to 8 or greater than 8\n",
    "    -  Number of times that he/she buys takeaway food: 0, less than 1, 1 to 3, 4 to 8 or greater\n",
    "    than 8\n",
    "    -  Number of times that he/she goes to a coffee house: 0, less than 1, 1 to 3, 4 to 8 or\n",
    "    greater than 8\n",
    "    -  Number of times that he/she eats at a restaurant with average expense less than \\\\$20 per\n",
    "    person: 0, less than 1, 1 to 3, 4 to 8 or greater than 8\n",
    "    -  Number of times that he/she goes to a bar: 0, less than 1, 1 to 3, 4 to 8 or greater than 8\n",
    "    \n",
    "\n",
    "2. Contextual attributes\n",
    "    - Driving destination: home, work, or no urgent destination\n",
    "    - Location of user, coupon and destination: we provide a map to show the geographical\n",
    "    location of the user, destination, and the venue, and we mark the distance between each\n",
    "    two places with time of driving. The user can see whether the venue is in the same\n",
    "    direction as the destination.\n",
    "    - Weather: sunny, rainy, or snowy\n",
    "    - Temperature: 30F, 55F, or 80F\n",
    "    - Time: 10AM, 2PM, or 6PM\n",
    "    - Passenger: alone, partner, kid(s), or friend(s)\n",
    "\n",
    "\n",
    "3. Coupon attributes\n",
    "    - time before it expires: 2 hours or one day"
   ]
  },
  {
   "cell_type": "code",
   "execution_count": 25,
   "metadata": {},
   "outputs": [],
   "source": [
    "import matplotlib.pyplot as plt\n",
    "import seaborn as sns\n",
    "import pandas as pd\n",
    "import numpy as np"
   ]
  },
  {
   "cell_type": "markdown",
   "metadata": {},
   "source": [
    "### Problems\n",
    "\n",
    "Use the prompts below to get started with your data analysis.  \n",
    "\n",
    "1. Read in the `coupons.csv` file.\n",
    "\n",
    "\n"
   ]
  },
  {
   "cell_type": "code",
   "execution_count": 28,
   "metadata": {},
   "outputs": [],
   "source": [
    "data = pd.read_csv('data/coupons.csv')"
   ]
  },
  {
   "cell_type": "code",
   "execution_count": 30,
   "metadata": {},
   "outputs": [
    {
     "data": {
      "text/html": [
       "<div>\n",
       "<style scoped>\n",
       "    .dataframe tbody tr th:only-of-type {\n",
       "        vertical-align: middle;\n",
       "    }\n",
       "\n",
       "    .dataframe tbody tr th {\n",
       "        vertical-align: top;\n",
       "    }\n",
       "\n",
       "    .dataframe thead th {\n",
       "        text-align: right;\n",
       "    }\n",
       "</style>\n",
       "<table border=\"1\" class=\"dataframe\">\n",
       "  <thead>\n",
       "    <tr style=\"text-align: right;\">\n",
       "      <th></th>\n",
       "      <th>destination</th>\n",
       "      <th>passanger</th>\n",
       "      <th>weather</th>\n",
       "      <th>temperature</th>\n",
       "      <th>time</th>\n",
       "      <th>coupon</th>\n",
       "      <th>expiration</th>\n",
       "      <th>gender</th>\n",
       "      <th>age</th>\n",
       "      <th>maritalStatus</th>\n",
       "      <th>...</th>\n",
       "      <th>CoffeeHouse</th>\n",
       "      <th>CarryAway</th>\n",
       "      <th>RestaurantLessThan20</th>\n",
       "      <th>Restaurant20To50</th>\n",
       "      <th>toCoupon_GEQ5min</th>\n",
       "      <th>toCoupon_GEQ15min</th>\n",
       "      <th>toCoupon_GEQ25min</th>\n",
       "      <th>direction_same</th>\n",
       "      <th>direction_opp</th>\n",
       "      <th>Y</th>\n",
       "    </tr>\n",
       "  </thead>\n",
       "  <tbody>\n",
       "    <tr>\n",
       "      <th>0</th>\n",
       "      <td>No Urgent Place</td>\n",
       "      <td>Alone</td>\n",
       "      <td>Sunny</td>\n",
       "      <td>55</td>\n",
       "      <td>2PM</td>\n",
       "      <td>Restaurant(&lt;20)</td>\n",
       "      <td>1d</td>\n",
       "      <td>Female</td>\n",
       "      <td>21</td>\n",
       "      <td>Unmarried partner</td>\n",
       "      <td>...</td>\n",
       "      <td>never</td>\n",
       "      <td>NaN</td>\n",
       "      <td>4~8</td>\n",
       "      <td>1~3</td>\n",
       "      <td>1</td>\n",
       "      <td>0</td>\n",
       "      <td>0</td>\n",
       "      <td>0</td>\n",
       "      <td>1</td>\n",
       "      <td>1</td>\n",
       "    </tr>\n",
       "    <tr>\n",
       "      <th>1</th>\n",
       "      <td>No Urgent Place</td>\n",
       "      <td>Friend(s)</td>\n",
       "      <td>Sunny</td>\n",
       "      <td>80</td>\n",
       "      <td>10AM</td>\n",
       "      <td>Coffee House</td>\n",
       "      <td>2h</td>\n",
       "      <td>Female</td>\n",
       "      <td>21</td>\n",
       "      <td>Unmarried partner</td>\n",
       "      <td>...</td>\n",
       "      <td>never</td>\n",
       "      <td>NaN</td>\n",
       "      <td>4~8</td>\n",
       "      <td>1~3</td>\n",
       "      <td>1</td>\n",
       "      <td>0</td>\n",
       "      <td>0</td>\n",
       "      <td>0</td>\n",
       "      <td>1</td>\n",
       "      <td>0</td>\n",
       "    </tr>\n",
       "    <tr>\n",
       "      <th>2</th>\n",
       "      <td>No Urgent Place</td>\n",
       "      <td>Friend(s)</td>\n",
       "      <td>Sunny</td>\n",
       "      <td>80</td>\n",
       "      <td>10AM</td>\n",
       "      <td>Carry out &amp; Take away</td>\n",
       "      <td>2h</td>\n",
       "      <td>Female</td>\n",
       "      <td>21</td>\n",
       "      <td>Unmarried partner</td>\n",
       "      <td>...</td>\n",
       "      <td>never</td>\n",
       "      <td>NaN</td>\n",
       "      <td>4~8</td>\n",
       "      <td>1~3</td>\n",
       "      <td>1</td>\n",
       "      <td>1</td>\n",
       "      <td>0</td>\n",
       "      <td>0</td>\n",
       "      <td>1</td>\n",
       "      <td>1</td>\n",
       "    </tr>\n",
       "    <tr>\n",
       "      <th>3</th>\n",
       "      <td>No Urgent Place</td>\n",
       "      <td>Friend(s)</td>\n",
       "      <td>Sunny</td>\n",
       "      <td>80</td>\n",
       "      <td>2PM</td>\n",
       "      <td>Coffee House</td>\n",
       "      <td>2h</td>\n",
       "      <td>Female</td>\n",
       "      <td>21</td>\n",
       "      <td>Unmarried partner</td>\n",
       "      <td>...</td>\n",
       "      <td>never</td>\n",
       "      <td>NaN</td>\n",
       "      <td>4~8</td>\n",
       "      <td>1~3</td>\n",
       "      <td>1</td>\n",
       "      <td>1</td>\n",
       "      <td>0</td>\n",
       "      <td>0</td>\n",
       "      <td>1</td>\n",
       "      <td>0</td>\n",
       "    </tr>\n",
       "    <tr>\n",
       "      <th>4</th>\n",
       "      <td>No Urgent Place</td>\n",
       "      <td>Friend(s)</td>\n",
       "      <td>Sunny</td>\n",
       "      <td>80</td>\n",
       "      <td>2PM</td>\n",
       "      <td>Coffee House</td>\n",
       "      <td>1d</td>\n",
       "      <td>Female</td>\n",
       "      <td>21</td>\n",
       "      <td>Unmarried partner</td>\n",
       "      <td>...</td>\n",
       "      <td>never</td>\n",
       "      <td>NaN</td>\n",
       "      <td>4~8</td>\n",
       "      <td>1~3</td>\n",
       "      <td>1</td>\n",
       "      <td>1</td>\n",
       "      <td>0</td>\n",
       "      <td>0</td>\n",
       "      <td>1</td>\n",
       "      <td>0</td>\n",
       "    </tr>\n",
       "  </tbody>\n",
       "</table>\n",
       "<p>5 rows × 26 columns</p>\n",
       "</div>"
      ],
      "text/plain": [
       "       destination  passanger weather  temperature  time  \\\n",
       "0  No Urgent Place      Alone   Sunny           55   2PM   \n",
       "1  No Urgent Place  Friend(s)   Sunny           80  10AM   \n",
       "2  No Urgent Place  Friend(s)   Sunny           80  10AM   \n",
       "3  No Urgent Place  Friend(s)   Sunny           80   2PM   \n",
       "4  No Urgent Place  Friend(s)   Sunny           80   2PM   \n",
       "\n",
       "                  coupon expiration  gender age      maritalStatus  ...  \\\n",
       "0        Restaurant(<20)         1d  Female  21  Unmarried partner  ...   \n",
       "1           Coffee House         2h  Female  21  Unmarried partner  ...   \n",
       "2  Carry out & Take away         2h  Female  21  Unmarried partner  ...   \n",
       "3           Coffee House         2h  Female  21  Unmarried partner  ...   \n",
       "4           Coffee House         1d  Female  21  Unmarried partner  ...   \n",
       "\n",
       "   CoffeeHouse CarryAway RestaurantLessThan20 Restaurant20To50  \\\n",
       "0        never       NaN                  4~8              1~3   \n",
       "1        never       NaN                  4~8              1~3   \n",
       "2        never       NaN                  4~8              1~3   \n",
       "3        never       NaN                  4~8              1~3   \n",
       "4        never       NaN                  4~8              1~3   \n",
       "\n",
       "  toCoupon_GEQ5min toCoupon_GEQ15min toCoupon_GEQ25min direction_same  \\\n",
       "0                1                 0                 0              0   \n",
       "1                1                 0                 0              0   \n",
       "2                1                 1                 0              0   \n",
       "3                1                 1                 0              0   \n",
       "4                1                 1                 0              0   \n",
       "\n",
       "  direction_opp  Y  \n",
       "0             1  1  \n",
       "1             1  0  \n",
       "2             1  1  \n",
       "3             1  0  \n",
       "4             1  0  \n",
       "\n",
       "[5 rows x 26 columns]"
      ]
     },
     "execution_count": 30,
     "metadata": {},
     "output_type": "execute_result"
    }
   ],
   "source": [
    "data.head()"
   ]
  },
  {
   "cell_type": "markdown",
   "metadata": {},
   "source": [
    "2. Investigate the dataset for missing or problematic data."
   ]
  },
  {
   "cell_type": "code",
   "execution_count": 33,
   "metadata": {},
   "outputs": [
    {
     "name": "stdout",
     "output_type": "stream",
     "text": [
      "Missing or problematic data\n",
      "destination                 0\n",
      "passanger                   0\n",
      "weather                     0\n",
      "temperature                 0\n",
      "time                        0\n",
      "coupon                      0\n",
      "expiration                  0\n",
      "gender                      0\n",
      "age                         0\n",
      "maritalStatus               0\n",
      "has_children                0\n",
      "education                   0\n",
      "occupation                  0\n",
      "income                      0\n",
      "car                     12576\n",
      "Bar                       107\n",
      "CoffeeHouse               217\n",
      "CarryAway                 151\n",
      "RestaurantLessThan20      130\n",
      "Restaurant20To50          189\n",
      "toCoupon_GEQ5min            0\n",
      "toCoupon_GEQ15min           0\n",
      "toCoupon_GEQ25min           0\n",
      "direction_same              0\n",
      "direction_opp               0\n",
      "Y                           0\n",
      "dtype: int64\n",
      "           destination  passanger weather  temperature  time  \\\n",
      "0      No Urgent Place      Alone   Sunny           55   2PM   \n",
      "1      No Urgent Place  Friend(s)   Sunny           80  10AM   \n",
      "2      No Urgent Place  Friend(s)   Sunny           80  10AM   \n",
      "3      No Urgent Place  Friend(s)   Sunny           80   2PM   \n",
      "4      No Urgent Place  Friend(s)   Sunny           80   2PM   \n",
      "...                ...        ...     ...          ...   ...   \n",
      "12679             Home    Partner   Rainy           55   6PM   \n",
      "12680             Work      Alone   Rainy           55   7AM   \n",
      "12681             Work      Alone   Snowy           30   7AM   \n",
      "12682             Work      Alone   Snowy           30   7AM   \n",
      "12683             Work      Alone   Sunny           80   7AM   \n",
      "\n",
      "                      coupon expiration  gender age      maritalStatus  ...  \\\n",
      "0            Restaurant(<20)         1d  Female  21  Unmarried partner  ...   \n",
      "1               Coffee House         2h  Female  21  Unmarried partner  ...   \n",
      "2      Carry out & Take away         2h  Female  21  Unmarried partner  ...   \n",
      "3               Coffee House         2h  Female  21  Unmarried partner  ...   \n",
      "4               Coffee House         1d  Female  21  Unmarried partner  ...   \n",
      "...                      ...        ...     ...  ..                ...  ...   \n",
      "12679  Carry out & Take away         1d    Male  26             Single  ...   \n",
      "12680  Carry out & Take away         1d    Male  26             Single  ...   \n",
      "12681           Coffee House         1d    Male  26             Single  ...   \n",
      "12682                    Bar         1d    Male  26             Single  ...   \n",
      "12683      Restaurant(20-50)         2h    Male  26             Single  ...   \n",
      "\n",
      "       CoffeeHouse CarryAway RestaurantLessThan20 Restaurant20To50  \\\n",
      "0            never       NaN                  4~8              1~3   \n",
      "1            never       NaN                  4~8              1~3   \n",
      "2            never       NaN                  4~8              1~3   \n",
      "3            never       NaN                  4~8              1~3   \n",
      "4            never       NaN                  4~8              1~3   \n",
      "...            ...       ...                  ...              ...   \n",
      "12679        never       1~3                  4~8              1~3   \n",
      "12680        never       1~3                  4~8              1~3   \n",
      "12681        never       1~3                  4~8              1~3   \n",
      "12682        never       1~3                  4~8              1~3   \n",
      "12683        never       1~3                  4~8              1~3   \n",
      "\n",
      "      toCoupon_GEQ5min toCoupon_GEQ15min toCoupon_GEQ25min direction_same  \\\n",
      "0                    1                 0                 0              0   \n",
      "1                    1                 0                 0              0   \n",
      "2                    1                 1                 0              0   \n",
      "3                    1                 1                 0              0   \n",
      "4                    1                 1                 0              0   \n",
      "...                ...               ...               ...            ...   \n",
      "12679                1                 0                 0              1   \n",
      "12680                1                 0                 0              0   \n",
      "12681                1                 0                 0              1   \n",
      "12682                1                 1                 1              0   \n",
      "12683                1                 0                 0              1   \n",
      "\n",
      "      direction_opp  Y  \n",
      "0                 1  1  \n",
      "1                 1  0  \n",
      "2                 1  1  \n",
      "3                 1  0  \n",
      "4                 1  0  \n",
      "...             ... ..  \n",
      "12679             0  1  \n",
      "12680             1  1  \n",
      "12681             0  0  \n",
      "12682             1  0  \n",
      "12683             0  0  \n",
      "\n",
      "[12684 rows x 26 columns]\n"
     ]
    }
   ],
   "source": [
    "missing_val_count = data.isna().sum()\n",
    "print(f\"Missing or problematic data\\n{missing_val_count}\")\n",
    "print(data)"
   ]
  },
  {
   "cell_type": "markdown",
   "metadata": {},
   "source": [
    "3. Decide what to do about your missing data -- drop, replace, other..."
   ]
  },
  {
   "cell_type": "code",
   "execution_count": 36,
   "metadata": {},
   "outputs": [
    {
     "name": "stdout",
     "output_type": "stream",
     "text": [
      "All columns\n",
      "Index(['destination', 'passanger', 'weather', 'temperature', 'time', 'coupon',\n",
      "       'expiration', 'gender', 'age', 'maritalStatus', 'has_children',\n",
      "       'education', 'occupation', 'income', 'car', 'Bar', 'CoffeeHouse',\n",
      "       'CarryAway', 'RestaurantLessThan20', 'Restaurant20To50',\n",
      "       'toCoupon_GEQ5min', 'toCoupon_GEQ15min', 'toCoupon_GEQ25min',\n",
      "       'direction_same', 'direction_opp', 'Y'],\n",
      "      dtype='object')\n",
      "Updated columns after droping Car column\n",
      "Index(['destination', 'passanger', 'weather', 'temperature', 'time', 'coupon',\n",
      "       'expiration', 'gender', 'age', 'maritalStatus', 'has_children',\n",
      "       'education', 'occupation', 'income', 'Bar', 'CoffeeHouse', 'CarryAway',\n",
      "       'RestaurantLessThan20', 'Restaurant20To50', 'toCoupon_GEQ5min',\n",
      "       'toCoupon_GEQ15min', 'toCoupon_GEQ25min', 'direction_same',\n",
      "       'direction_opp', 'Y'],\n",
      "      dtype='object')\n"
     ]
    }
   ],
   "source": [
    "#As Car value has lots of missing data drop 'Car' column\n",
    "Allcolumns = data.columns\n",
    "print(\"All columns\")\n",
    "print(Allcolumns)\n",
    "data = data.drop(columns = ['car'])\n",
    "updatedColumn = data.columns\n",
    "#list(data1.columns)\n",
    "print(\"Updated columns after droping Car column\")\n",
    "print(updatedColumn)"
   ]
  },
  {
   "cell_type": "markdown",
   "metadata": {},
   "source": [
    "4. What proportion of the total observations chose to accept the coupon? \n",
    "\n"
   ]
  },
  {
   "cell_type": "code",
   "execution_count": 39,
   "metadata": {},
   "outputs": [
    {
     "name": "stdout",
     "output_type": "stream",
     "text": [
      "Total number who accept coupon 7210\n",
      "Overall count 12684\n",
      "Proportion of who accepts the coupon: 56.84326710816777\n"
     ]
    }
   ],
   "source": [
    "AcceptedCount = data['Y'].value_counts()[1]\n",
    "OverallCount = data['Y'].count()\n",
    "\n",
    "print(f\"Total number who accept coupon {AcceptedCount}\")\n",
    "print(f\"Overall count {OverallCount}\")\n",
    "\n",
    "proportion = (AcceptedCount/OverallCount)*100\n",
    "print(f\"Proportion of who accepts the coupon: {proportion}\")"
   ]
  },
  {
   "cell_type": "markdown",
   "metadata": {},
   "source": [
    "5. Use a bar plot to visualize the `coupon` column."
   ]
  },
  {
   "cell_type": "code",
   "execution_count": 42,
   "metadata": {},
   "outputs": [
    {
     "data": {
      "image/png": "[encoded data removed]",
      "text/plain": [
       "<Figure size 640x480 with 1 Axes>"
      ]
     },
     "metadata": {},
     "output_type": "display_data"
    }
   ],
   "source": [
    "ax = data['coupon'].value_counts().plot(kind='bar')\n",
    "plt.title('Bar plot to visualize the coupon column') \n",
    "ax.set_xlabel(\"Types of Coupons\")\n",
    "ax.set_ylabel(\"Count of Coupons\")\n",
    "plt.show()"
   ]
  },
  {
   "cell_type": "markdown",
   "metadata": {},
   "source": [
    "6. Use a histogram to visualize the temperature column."
   ]
  },
  {
   "cell_type": "code",
   "execution_count": 45,
   "metadata": {},
   "outputs": [
    {
     "data": {
      "text/plain": [
       "Text(0, 0.5, 'Count')"
      ]
     },
     "execution_count": 45,
     "metadata": {},
     "output_type": "execute_result"
    },
    {
     "data": {
      "image/png": "[encoded data removed]",
      "text/plain": [
       "<Figure size 640x480 with 1 Axes>"
      ]
     },
     "metadata": {},
     "output_type": "display_data"
    }
   ],
   "source": [
    "hist = data.hist(column='temperature')\n",
    "plt.title('Histogram diagram of Temperature') \n",
    "plt.xlabel('Temperature') \n",
    "plt.ylabel('Count') "
   ]
  },
  {
   "cell_type": "code",
   "execution_count": 47,
   "metadata": {},
   "outputs": [
    {
     "data": {
      "image/png": "[encoded data removed]",
      "text/plain": [
       "<Figure size 640x480 with 1 Axes>"
      ]
     },
     "metadata": {},
     "output_type": "display_data"
    }
   ],
   "source": [
    "plt.hist([data['Y'], data['temperature']], bins=4, stacked = True)\n",
    "plt.title('Stacked Histogram diagram of Temperature') \n",
    "plt.xlabel('Temperature') \n",
    "plt.ylabel('Count') \n",
    "plt.legend(['Y','temperature'])\n",
    "plt.show()"
   ]
  },
  {
   "cell_type": "code",
   "execution_count": 49,
   "metadata": {},
   "outputs": [
    {
     "name": "stderr",
     "output_type": "stream",
     "text": [
      "C:\\ProgramData\\anaconda3\\Lib\\site-packages\\seaborn\\_oldcore.py:1119: FutureWarning: use_inf_as_na option is deprecated and will be removed in a future version. Convert inf values to NaN before operating instead.\n",
      "  with pd.option_context('mode.use_inf_as_na', True):\n",
      "C:\\ProgramData\\anaconda3\\Lib\\site-packages\\seaborn\\_oldcore.py:1075: FutureWarning: When grouping with a length-1 list-like, you will need to pass a length-1 tuple to get_group in a future version of pandas. Pass `(name,)` instead of `name` to silence this warning.\n",
      "  data_subset = grouped_data.get_group(pd_key)\n",
      "C:\\ProgramData\\anaconda3\\Lib\\site-packages\\seaborn\\_oldcore.py:1075: FutureWarning: When grouping with a length-1 list-like, you will need to pass a length-1 tuple to get_group in a future version of pandas. Pass `(name,)` instead of `name` to silence this warning.\n",
      "  data_subset = grouped_data.get_group(pd_key)\n",
      "C:\\ProgramData\\anaconda3\\Lib\\site-packages\\seaborn\\_oldcore.py:1075: FutureWarning: When grouping with a length-1 list-like, you will need to pass a length-1 tuple to get_group in a future version of pandas. Pass `(name,)` instead of `name` to silence this warning.\n",
      "  data_subset = grouped_data.get_group(pd_key)\n"
     ]
    },
    {
     "data": {
      "text/plain": [
       "<Axes: xlabel='temperature', ylabel='Count'>"
      ]
     },
     "execution_count": 49,
     "metadata": {},
     "output_type": "execute_result"
    },
    {
     "data": {
      "image/png": "[encoded data removed]",
      "text/plain": [
       "<Figure size 640x480 with 1 Axes>"
      ]
     },
     "metadata": {},
     "output_type": "display_data"
    }
   ],
   "source": [
    "sns.histplot(data=data, x=\"temperature\", hue=\"Y\", bins=10, kde = True, multiple=\"stack\")"
   ]
  },
  {
   "cell_type": "code",
   "execution_count": null,
   "metadata": {},
   "outputs": [],
   "source": []
  },
  {
   "cell_type": "code",
   "execution_count": null,
   "metadata": {},
   "outputs": [],
   "source": []
  },
  {
   "cell_type": "markdown",
   "metadata": {},
   "source": [
    "**Investigating the Bar Coupons**\n",
    "\n",
    "Now, we will lead you through an exploration of just the bar related coupons.  \n",
    "\n",
    "1. Create a new `DataFrame` that contains just the bar coupons.\n"
   ]
  },
  {
   "cell_type": "code",
   "execution_count": 54,
   "metadata": {},
   "outputs": [
    {
     "name": "stdout",
     "output_type": "stream",
     "text": [
      "Investigating the Bar coupons\n",
      "           destination  passanger weather  temperature  time coupon  \\\n",
      "9      No Urgent Place     Kid(s)   Sunny           80  10AM    Bar   \n",
      "13                Home      Alone   Sunny           55   6PM    Bar   \n",
      "17                Work      Alone   Sunny           55   7AM    Bar   \n",
      "24     No Urgent Place  Friend(s)   Sunny           80  10AM    Bar   \n",
      "35                Home      Alone   Sunny           55   6PM    Bar   \n",
      "...                ...        ...     ...          ...   ...    ...   \n",
      "12663  No Urgent Place  Friend(s)   Sunny           80  10PM    Bar   \n",
      "12664  No Urgent Place  Friend(s)   Sunny           55  10PM    Bar   \n",
      "12667  No Urgent Place      Alone   Rainy           55  10AM    Bar   \n",
      "12670  No Urgent Place    Partner   Rainy           55   6PM    Bar   \n",
      "12682             Work      Alone   Snowy           30   7AM    Bar   \n",
      "\n",
      "      expiration  gender age      maritalStatus  ...  CoffeeHouse CarryAway  \\\n",
      "9             1d  Female  21  Unmarried partner  ...        never       NaN   \n",
      "13            1d  Female  21  Unmarried partner  ...        never       NaN   \n",
      "17            1d  Female  21  Unmarried partner  ...        never       NaN   \n",
      "24            1d    Male  21             Single  ...        less1       4~8   \n",
      "35            1d    Male  21             Single  ...        less1       4~8   \n",
      "...          ...     ...  ..                ...  ...          ...       ...   \n",
      "12663         1d    Male  26             Single  ...        never       1~3   \n",
      "12664         2h    Male  26             Single  ...        never       1~3   \n",
      "12667         1d    Male  26             Single  ...        never       1~3   \n",
      "12670         2h    Male  26             Single  ...        never       1~3   \n",
      "12682         1d    Male  26             Single  ...        never       1~3   \n",
      "\n",
      "      RestaurantLessThan20 Restaurant20To50 toCoupon_GEQ5min  \\\n",
      "9                      4~8              1~3                1   \n",
      "13                     4~8              1~3                1   \n",
      "17                     4~8              1~3                1   \n",
      "24                     4~8            less1                1   \n",
      "35                     4~8            less1                1   \n",
      "...                    ...              ...              ...   \n",
      "12663                  4~8              1~3                1   \n",
      "12664                  4~8              1~3                1   \n",
      "12667                  4~8              1~3                1   \n",
      "12670                  4~8              1~3                1   \n",
      "12682                  4~8              1~3                1   \n",
      "\n",
      "      toCoupon_GEQ15min toCoupon_GEQ25min direction_same direction_opp  Y  \n",
      "9                     1                 0              0             1  0  \n",
      "13                    0                 0              1             0  1  \n",
      "17                    1                 1              0             1  0  \n",
      "24                    0                 0              0             1  1  \n",
      "35                    0                 0              1             0  1  \n",
      "...                 ...               ...            ...           ... ..  \n",
      "12663                 1                 0              0             1  0  \n",
      "12664                 1                 0              0             1  0  \n",
      "12667                 1                 0              0             1  0  \n",
      "12670                 1                 0              0             1  0  \n",
      "12682                 1                 1              0             1  0  \n",
      "\n",
      "[2017 rows x 25 columns]\n"
     ]
    }
   ],
   "source": [
    "bardata = data[data['coupon'] == 'Bar']\n",
    "print(\"Investigating the Bar coupons\")\n",
    "print(bardata)"
   ]
  },
  {
   "cell_type": "markdown",
   "metadata": {},
   "source": [
    "2. What proportion of bar coupons were accepted?\n"
   ]
  },
  {
   "cell_type": "code",
   "execution_count": 57,
   "metadata": {},
   "outputs": [
    {
     "name": "stdout",
     "output_type": "stream",
     "text": [
      "Identify proportion of bar coupons accepted\n",
      "Accepted count 827\n",
      "Total count 2017\n",
      "Proportion of bar coupons were accepted 41.00148735746158\n"
     ]
    }
   ],
   "source": [
    "print(\"Identify proportion of bar coupons accepted\")\n",
    "\n",
    "acceptedCount = bardata['Y'].value_counts()[1]\n",
    "totalCount = bardata['Y'].count()\n",
    "\n",
    "proportion = (acceptedCount/totalCount)*100\n",
    "\n",
    "print(f\"Accepted count {acceptedCount}\")\n",
    "print(f\"Total count {totalCount}\")\n",
    "print(f\"Proportion of bar coupons were accepted {proportion}\")"
   ]
  },
  {
   "cell_type": "markdown",
   "metadata": {},
   "source": [
    "3. Compare the acceptance rate between those who went to a bar 3 or fewer times a month to those who went more.\n"
   ]
  },
  {
   "cell_type": "code",
   "execution_count": 60,
   "metadata": {},
   "outputs": [
    {
     "name": "stdout",
     "output_type": "stream",
     "text": [
      "Compare various acceptance rates\n",
      "Acceptance Rate for drivers who went to a bar 3 or fewer times a month is 0.37061769616026713\n",
      "Acceptance Rate for drivers who went to a bar more that 3 times is 0.78\n"
     ]
    }
   ],
   "source": [
    "print(\"Compare various acceptance rates\")\n",
    "lessthan3timeBar = bardata[bardata['Bar'].isin(['never', 'less1', '1~3'])]\n",
    "morethan3timeBar = bardata[bardata['Bar'].isin(['4~8','gr8'])]\n",
    "\n",
    "lessthan3timeBar_acceptance = lessthan3timeBar['Y'].mean()\n",
    "morethan3timeBar_acceptance = morethan3timeBar['Y'].mean()\n",
    "\n",
    "print(f\"Acceptance Rate for drivers who went to a bar 3 or fewer times a month is {lessthan3timeBar_acceptance}\")\n",
    "print(f\"Acceptance Rate for drivers who went to a bar more that 3 times is {morethan3timeBar_acceptance}\")"
   ]
  },
  {
   "cell_type": "markdown",
   "metadata": {},
   "source": [
    "4. Compare the acceptance rate between drivers who go to a bar more than once a month and are over the age of 25 to the all others.  Is there a difference?\n"
   ]
  },
  {
   "cell_type": "code",
   "execution_count": 63,
   "metadata": {},
   "outputs": [
    {
     "name": "stdout",
     "output_type": "stream",
     "text": [
      "Compare various acceptance rates 2\n",
      "Acceptance Rate for drivers who go to a bar more than once a month and are over the age of 25 is 0.6893939393939394\n",
      "Acceptance Rate for all other drivers is 0.3890675241157556\n"
     ]
    }
   ],
   "source": [
    "print(\"Compare various acceptance rates 2\")\n",
    "\n",
    "moreThanOnceAndAge25 = bardata[bardata['Bar'].isin(['1~3', '4~8', 'gr8']) & (bardata['age'] > '25')]\n",
    "notMoreThanOnceAndAge25 = bardata[~(bardata['Bar'].isin(['1~3','4~8','gr8']) & (bardata['age'] < '25'))]\n",
    "\n",
    "AccmoreThanOnceAndAge25 = moreThanOnceAndAge25['Y'].mean()\n",
    "AccnotMoreThanOnceAndAge25 = notMoreThanOnceAndAge25['Y'].mean()\n",
    "\n",
    "print(f\"Acceptance Rate for drivers who go to a bar more than once a month and are over the age of 25 is {AccmoreThanOnceAndAge25}\")\n",
    "print(f\"Acceptance Rate for all other drivers is {AccnotMoreThanOnceAndAge25}\")"
   ]
  },
  {
   "cell_type": "markdown",
   "metadata": {},
   "source": [
    "5. Use the same process to compare the acceptance rate between drivers who go to bars more than once a month and had passengers that were not a kid and had occupations other than farming, fishing, or forestry. \n"
   ]
  },
  {
   "cell_type": "code",
   "execution_count": 66,
   "metadata": {},
   "outputs": [
    {
     "name": "stdout",
     "output_type": "stream",
     "text": [
      "Compare various acceptance rates 3\n",
      "Acceptance Rate for drivers who go to bars more than once a month and had passengers that were not a kid is 0.6837294332723949\n",
      "Acceptance Rate for all other drivers is 0.3081632653061224\n"
     ]
    }
   ],
   "source": [
    "print(\"Compare various acceptance rates 3\")\n",
    "driver1MonthNoKIds = bardata[bardata['Bar'].isin(['1~3', '4~8', 'gr8']) \n",
    "                        & (bardata['passanger'] != 'Kids') \n",
    "                        & (bardata['occupation'] != 'Farming Fishing & Forestry')]\n",
    "\n",
    "allOtherDrivers = bardata[~(bardata['Bar'].isin(['1~3', '4~8', 'gr8']) \n",
    "                        & (bardata['passanger'] != 'Kids') \n",
    "                        & (bardata['occupation'] != 'Farming Fishing & Forestry'))]\n",
    "\n",
    "Accptdata = driver1MonthNoKIds['Y'].mean()\n",
    "otherdata = allOtherDrivers['Y'].mean()\n",
    "\n",
    "print(f\"Acceptance Rate for drivers who go to bars more than once a month and had passengers that were not a kid is {Accptdata}\")\n",
    "print(f\"Acceptance Rate for all other drivers is {otherdata}\")"
   ]
  },
  {
   "cell_type": "markdown",
   "metadata": {},
   "source": [
    "6. Compare the acceptance rates between those drivers who:\n",
    "\n",
    "- go to bars more than once a month, had passengers that were not a kid, and were not widowed *OR*\n",
    "- go to bars more than once a month and are under the age of 30 *OR*\n",
    "- go to cheap restaurants more than 4 times a month and income is less than 50K. \n",
    "\n"
   ]
  },
  {
   "cell_type": "code",
   "execution_count": 69,
   "metadata": {},
   "outputs": [
    {
     "name": "stdout",
     "output_type": "stream",
     "text": [
      "Compare various acceptance rates 4\n",
      "Acceptance Rate for drivers who go to bars more than once a month, had passengers that were not a kid, and were not widowed is 0.6837294332723949\n",
      "Acceptance Rate for drivers who go to bars more than once a month and are under the age of 30 is 0.7185430463576159\n",
      "Acceptance Rate for drivers who go to cheap restaurants more than 4 times a month and income is less than 50K is 0.4271186440677966\n"
     ]
    }
   ],
   "source": [
    "print(\"Compare various acceptance rates 4\")\n",
    "driverlist1 = bardata[bardata['Bar'].isin(['1~3', '4~8', 'gr8']) \n",
    "                        & (bardata['passanger'] != 'Kids') \n",
    "                        & (bardata['maritalStatus'] != 'Widowed')]\n",
    "\n",
    "driverlist2 = bardata[(bardata['Bar'].isin(['1~3', '4~8', 'gr8'])) \n",
    "                        & (bardata['age'] < '30')] \n",
    "\n",
    "driverlist3 = bardata[(bardata['RestaurantLessThan20'].isin(['4~8', 'gr8']) )\n",
    "                        & (bardata['income'] < '$50000')]\n",
    "\n",
    "accepData1 = driverlist1['Y'].mean()\n",
    "print(f\"Acceptance Rate for drivers who go to bars more than once a month, had passengers that were not a kid, and were not widowed is {accepData1}\")\n",
    "accepData2 = driverlist2['Y'].mean()\n",
    "print(f\"Acceptance Rate for drivers who go to bars more than once a month and are under the age of 30 is {accepData2}\")\n",
    "accepData3 = driverlist3['Y'].mean()\n",
    "print(f\"Acceptance Rate for drivers who go to cheap restaurants more than 4 times a month and income is less than 50K is {accepData3}\")"
   ]
  },
  {
   "cell_type": "markdown",
   "metadata": {},
   "source": [
    "7.  Based on these observations, what do you hypothesize about drivers who accepted the bar coupons?"
   ]
  },
  {
   "cell_type": "code",
   "execution_count": 72,
   "metadata": {},
   "outputs": [],
   "source": [
    "#Overall Proportion of coupons accepted are 56%\n",
    "#Proportion of bar coupon accepted 41%\n",
    "#Drivers who went bar more than 3 times accepts more coupons \n",
    "#Drivers who age is less than 30 accepts more coupons \n",
    "#Farming Fishing & Forestry mainly not urban drivers less likely accepts coupons "
   ]
  },
  {
   "cell_type": "markdown",
   "metadata": {},
   "source": [
    "### Independent Investigation\n",
    "\n",
    "Using the bar coupon example as motivation, you are to explore one of the other coupon groups and try to determine the characteristics of passengers who accept the coupons.  "
   ]
  },
  {
   "cell_type": "code",
   "execution_count": 75,
   "metadata": {},
   "outputs": [
    {
     "name": "stdout",
     "output_type": "stream",
     "text": [
      "Investigating the CoffeeHouse coupons\n",
      "           destination  passanger weather  temperature  time        coupon  \\\n",
      "1      No Urgent Place  Friend(s)   Sunny           80  10AM  Coffee House   \n",
      "3      No Urgent Place  Friend(s)   Sunny           80   2PM  Coffee House   \n",
      "4      No Urgent Place  Friend(s)   Sunny           80   2PM  Coffee House   \n",
      "12     No Urgent Place     Kid(s)   Sunny           55   6PM  Coffee House   \n",
      "15                Home      Alone   Sunny           80   6PM  Coffee House   \n",
      "...                ...        ...     ...          ...   ...           ...   \n",
      "12656             Home      Alone   Snowy           30  10PM  Coffee House   \n",
      "12659             Work      Alone   Snowy           30   7AM  Coffee House   \n",
      "12674             Home      Alone   Rainy           55  10PM  Coffee House   \n",
      "12675             Home      Alone   Snowy           30  10PM  Coffee House   \n",
      "12681             Work      Alone   Snowy           30   7AM  Coffee House   \n",
      "\n",
      "      expiration  gender age      maritalStatus  ...  CoffeeHouse CarryAway  \\\n",
      "1             2h  Female  21  Unmarried partner  ...        never       NaN   \n",
      "3             2h  Female  21  Unmarried partner  ...        never       NaN   \n",
      "4             1d  Female  21  Unmarried partner  ...        never       NaN   \n",
      "12            2h  Female  21  Unmarried partner  ...        never       NaN   \n",
      "15            2h  Female  21  Unmarried partner  ...        never       NaN   \n",
      "...          ...     ...  ..                ...  ...          ...       ...   \n",
      "12656         2h    Male  31    Married partner  ...        never       4~8   \n",
      "12659         1d    Male  31    Married partner  ...        never       4~8   \n",
      "12674         2h    Male  26             Single  ...        never       1~3   \n",
      "12675         2h    Male  26             Single  ...        never       1~3   \n",
      "12681         1d    Male  26             Single  ...        never       1~3   \n",
      "\n",
      "      RestaurantLessThan20 Restaurant20To50 toCoupon_GEQ5min  \\\n",
      "1                      4~8              1~3                1   \n",
      "3                      4~8              1~3                1   \n",
      "4                      4~8              1~3                1   \n",
      "12                     4~8              1~3                1   \n",
      "15                     4~8              1~3                1   \n",
      "...                    ...              ...              ...   \n",
      "12656                  gt8            less1                1   \n",
      "12659                  gt8            less1                1   \n",
      "12674                  4~8              1~3                1   \n",
      "12675                  4~8              1~3                1   \n",
      "12681                  4~8              1~3                1   \n",
      "\n",
      "      toCoupon_GEQ15min toCoupon_GEQ25min direction_same direction_opp  Y  \n",
      "1                     0                 0              0             1  0  \n",
      "3                     1                 0              0             1  0  \n",
      "4                     1                 0              0             1  0  \n",
      "12                    1                 0              0             1  1  \n",
      "15                    0                 0              0             1  0  \n",
      "...                 ...               ...            ...           ... ..  \n",
      "12656                 1                 0              0             1  0  \n",
      "12659                 0                 0              1             0  0  \n",
      "12674                 0                 0              1             0  0  \n",
      "12675                 1                 0              0             1  0  \n",
      "12681                 0                 0              1             0  0  \n",
      "\n",
      "[3996 rows x 25 columns]\n"
     ]
    }
   ],
   "source": [
    "coffeeHouseData = data[data['coupon'] == 'Coffee House']\n",
    "print(\"Investigating the CoffeeHouse coupons\")\n",
    "print(coffeeHouseData)"
   ]
  },
  {
   "cell_type": "code",
   "execution_count": 77,
   "metadata": {},
   "outputs": [
    {
     "name": "stdout",
     "output_type": "stream",
     "text": [
      "Identify proportion of Coffee House coupons accepted\n",
      "Accepted count from Coffee house: 1995\n",
      "Total count: 3996\n",
      "Proportion of Coffee House coupons were accepted: 49.92492492492492\n"
     ]
    }
   ],
   "source": [
    "print(\"Identify proportion of Coffee House coupons accepted\")\n",
    "\n",
    "acceptedCount = coffeeHouseData['Y'].value_counts()[1]\n",
    "totalCount = coffeeHouseData['Y'].count()\n",
    "\n",
    "proportion = (acceptedCount/totalCount)*100\n",
    "\n",
    "print(f\"Accepted count from Coffee house: {acceptedCount}\")\n",
    "print(f\"Total count: {totalCount}\")\n",
    "print(f\"Proportion of Coffee House coupons were accepted: {proportion}\")"
   ]
  },
  {
   "cell_type": "code",
   "execution_count": 79,
   "metadata": {},
   "outputs": [
    {
     "name": "stdout",
     "output_type": "stream",
     "text": [
      "Compare various acceptance rates\n",
      "Accepted count female drivers who go to CoffeeHouse more than once a month and they are single: 0.6744186046511628\n",
      "Accepted count of drivers who go to CoffeeHouse more than once a month and thier age is less than 30: 0.6918687589158345\n"
     ]
    }
   ],
   "source": [
    "print(\"Compare various acceptance rates\")\n",
    "driverlist1 = coffeeHouseData[coffeeHouseData['CoffeeHouse'].isin(['1~3', '4~8', 'gr8']) \n",
    "                        & (coffeeHouseData['gender'] == 'Female') \n",
    "                        & (coffeeHouseData['maritalStatus'] != 'Single')]\n",
    "\n",
    "driverlist2 = coffeeHouseData[coffeeHouseData['CoffeeHouse'].isin(['1~3', '4~8', 'gr8']) \n",
    "                        & (coffeeHouseData['age'] < '30')] \n",
    "\n",
    "acceptData1 = driverlist1['Y'].mean()\n",
    "acceptData2 = driverlist2['Y'].mean()\n",
    "\n",
    "print(f\"Accepted count female drivers who go to CoffeeHouse more than once a month and they are single: {acceptData1}\")\n",
    "print(f\"Accepted count of drivers who go to CoffeeHouse more than once a month and thier age is less than 30: {acceptData2}\")"
   ]
  },
  {
   "cell_type": "code",
   "execution_count": 81,
   "metadata": {},
   "outputs": [
    {
     "name": "stdout",
     "output_type": "stream",
     "text": [
      "Compare Acceptnace of various male and female drivers for coffeeHouse coupons\n",
      "Accepted count male drivers who go to CoffeeHouse and thier age less than 30: 0.49924924924924924\n",
      "Accepted count female drivers who go to CoffeeHouse and thier age less than 30: 0.6918687589158345\n"
     ]
    }
   ],
   "source": [
    "print(\"Compare Acceptnace of various male and female drivers for coffeeHouse coupons\")\n",
    "driverlist1 = coffeeHouseData[(coffeeHouseData['gender'] == 'Male') & coffeeHouseData['age'] < 30] \n",
    "driverlist1 = coffeeHouseData[(coffeeHouseData['gender'] == 'Female') & coffeeHouseData['age'] < 30]\n",
    "\n",
    "acceptData1 = driverlist1['Y'].mean()\n",
    "acceptData2 = driverlist2['Y'].mean()\n",
    "\n",
    "print(f\"Accepted count male drivers who go to CoffeeHouse and thier age less than 30: {acceptData1}\")\n",
    "print(f\"Accepted count female drivers who go to CoffeeHouse and thier age less than 30: {acceptData2}\")"
   ]
  },
  {
   "cell_type": "code",
   "execution_count": 83,
   "metadata": {},
   "outputs": [
    {
     "name": "stdout",
     "output_type": "stream",
     "text": [
      "Acceptance for Rainy and Show days\n",
      "Accepted count drivers who go to CoffeeHouse when weather is Snowy : 0.43234323432343236\n",
      "Accepted count drivers who go to CoffeeHouse when weather is Rainy: 0.5221238938053098\n"
     ]
    }
   ],
   "source": [
    "print(\"Acceptance for Rainy and Show days\")\n",
    "driverlist1 = coffeeHouseData[coffeeHouseData['weather'] == 'Snowy']\n",
    "driverlist2 = coffeeHouseData[coffeeHouseData['weather'] == 'Rainy']\n",
    "\n",
    "acceptData1 = driverlist1['Y'].mean()\n",
    "acceptData2 = driverlist2['Y'].mean()\n",
    "\n",
    "print(f\"Accepted count drivers who go to CoffeeHouse when weather is Snowy : {acceptData1}\")\n",
    "print(f\"Accepted count drivers who go to CoffeeHouse when weather is Rainy: {acceptData2}\")"
   ]
  },
  {
   "cell_type": "code",
   "execution_count": 85,
   "metadata": {},
   "outputs": [
    {
     "name": "stdout",
     "output_type": "stream",
     "text": [
      "           destination  passanger weather  temperature  time  \\\n",
      "0      No Urgent Place      Alone   Sunny           55   2PM   \n",
      "2      No Urgent Place  Friend(s)   Sunny           80  10AM   \n",
      "5      No Urgent Place  Friend(s)   Sunny           80   6PM   \n",
      "6      No Urgent Place  Friend(s)   Sunny           55   2PM   \n",
      "7      No Urgent Place     Kid(s)   Sunny           80  10AM   \n",
      "...                ...        ...     ...          ...   ...   \n",
      "12671  No Urgent Place    Partner   Snowy           30  10AM   \n",
      "12676             Home      Alone   Sunny           80   6PM   \n",
      "12677             Home    Partner   Sunny           30   6PM   \n",
      "12679             Home    Partner   Rainy           55   6PM   \n",
      "12680             Work      Alone   Rainy           55   7AM   \n",
      "\n",
      "                      coupon expiration  gender age      maritalStatus  ...  \\\n",
      "0            Restaurant(<20)         1d  Female  21  Unmarried partner  ...   \n",
      "2      Carry out & Take away         2h  Female  21  Unmarried partner  ...   \n",
      "5            Restaurant(<20)         2h  Female  21  Unmarried partner  ...   \n",
      "6      Carry out & Take away         1d  Female  21  Unmarried partner  ...   \n",
      "7            Restaurant(<20)         2h  Female  21  Unmarried partner  ...   \n",
      "...                      ...        ...     ...  ..                ...  ...   \n",
      "12671        Restaurant(<20)         1d    Male  26             Single  ...   \n",
      "12676      Restaurant(20-50)         1d    Male  26             Single  ...   \n",
      "12677        Restaurant(<20)         1d    Male  26             Single  ...   \n",
      "12679  Carry out & Take away         1d    Male  26             Single  ...   \n",
      "12680  Carry out & Take away         1d    Male  26             Single  ...   \n",
      "\n",
      "       CoffeeHouse CarryAway RestaurantLessThan20 Restaurant20To50  \\\n",
      "0            never       NaN                  4~8              1~3   \n",
      "2            never       NaN                  4~8              1~3   \n",
      "5            never       NaN                  4~8              1~3   \n",
      "6            never       NaN                  4~8              1~3   \n",
      "7            never       NaN                  4~8              1~3   \n",
      "...            ...       ...                  ...              ...   \n",
      "12671        never       1~3                  4~8              1~3   \n",
      "12676        never       1~3                  4~8              1~3   \n",
      "12677        never       1~3                  4~8              1~3   \n",
      "12679        never       1~3                  4~8              1~3   \n",
      "12680        never       1~3                  4~8              1~3   \n",
      "\n",
      "      toCoupon_GEQ5min toCoupon_GEQ15min toCoupon_GEQ25min direction_same  \\\n",
      "0                    1                 0                 0              0   \n",
      "2                    1                 1                 0              0   \n",
      "5                    1                 1                 0              0   \n",
      "6                    1                 1                 0              0   \n",
      "7                    1                 1                 0              0   \n",
      "...                ...               ...               ...            ...   \n",
      "12671                1                 0                 0              0   \n",
      "12676                1                 0                 0              1   \n",
      "12677                1                 1                 1              0   \n",
      "12679                1                 0                 0              1   \n",
      "12680                1                 0                 0              0   \n",
      "\n",
      "      direction_opp  Y  \n",
      "0                 1  1  \n",
      "2                 1  1  \n",
      "5                 1  1  \n",
      "6                 1  1  \n",
      "7                 1  1  \n",
      "...             ... ..  \n",
      "12671             1  1  \n",
      "12676             0  1  \n",
      "12677             1  1  \n",
      "12679             0  1  \n",
      "12680             1  1  \n",
      "\n",
      "[7210 rows x 25 columns]\n"
     ]
    }
   ],
   "source": [
    "#Get all accepted drivers\n",
    "All_y_equals_1_df = data[data['Y']==1]\n",
    "print(All_y_equals_1_df)"
   ]
  },
  {
   "cell_type": "code",
   "execution_count": 87,
   "metadata": {},
   "outputs": [
    {
     "name": "stdout",
     "output_type": "stream",
     "text": [
      "<class 'pandas.core.frame.DataFrame'>\n",
      "Index: 7210 entries, 0 to 12680\n",
      "Data columns (total 25 columns):\n",
      " #   Column                Non-Null Count  Dtype \n",
      "---  ------                --------------  ----- \n",
      " 0   destination           7210 non-null   object\n",
      " 1   passanger             7210 non-null   object\n",
      " 2   weather               7210 non-null   object\n",
      " 3   temperature           7210 non-null   int64 \n",
      " 4   time                  7210 non-null   object\n",
      " 5   coupon                7210 non-null   object\n",
      " 6   expiration            7210 non-null   object\n",
      " 7   gender                7210 non-null   object\n",
      " 8   age                   7210 non-null   object\n",
      " 9   maritalStatus         7210 non-null   object\n",
      " 10  has_children          7210 non-null   int64 \n",
      " 11  education             7210 non-null   object\n",
      " 12  occupation            7210 non-null   object\n",
      " 13  income                7210 non-null   object\n",
      " 14  Bar                   7155 non-null   object\n",
      " 15  CoffeeHouse           7100 non-null   object\n",
      " 16  CarryAway             7109 non-null   object\n",
      " 17  RestaurantLessThan20  7121 non-null   object\n",
      " 18  Restaurant20To50      7105 non-null   object\n",
      " 19  toCoupon_GEQ5min      7210 non-null   int64 \n",
      " 20  toCoupon_GEQ15min     7210 non-null   int64 \n",
      " 21  toCoupon_GEQ25min     7210 non-null   int64 \n",
      " 22  direction_same        7210 non-null   int64 \n",
      " 23  direction_opp         7210 non-null   int64 \n",
      " 24  Y                     7210 non-null   int64 \n",
      "dtypes: int64(8), object(17)\n",
      "memory usage: 1.4+ MB\n"
     ]
    }
   ],
   "source": [
    "All_y_equals_1_df.info()"
   ]
  },
  {
   "cell_type": "code",
   "execution_count": null,
   "metadata": {},
   "outputs": [],
   "source": []
  },
  {
   "cell_type": "code",
   "execution_count": null,
   "metadata": {},
   "outputs": [],
   "source": []
  },
  {
   "cell_type": "code",
   "execution_count": null,
   "metadata": {},
   "outputs": [],
   "source": []
  }
 ],
 "metadata": {
  "kernelspec": {
   "display_name": "Python 3 (ipykernel)",
   "language": "python",
   "name": "python3"
  },
  "language_info": {
   "codemirror_mode": {
    "name": "ipython",
    "version": 3
   },
   "file_extension": ".py",
   "mimetype": "text/x-python",
   "name": "python",
   "nbconvert_exporter": "python",
   "pygments_lexer": "ipython3",
   "version": "3.11.7"
  },
  "widgets": {
   "application/vnd.jupyter.widget-state+json": {
    "state": {},
    "version_major": 2,
    "version_minor": 0
   }
  }
 },
 "nbformat": 4,
 "nbformat_minor": 4
}
